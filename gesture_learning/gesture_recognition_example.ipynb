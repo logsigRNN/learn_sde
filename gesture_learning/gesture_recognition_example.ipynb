{
 "cells": [
  {
   "cell_type": "code",
   "execution_count": null,
   "metadata": {},
   "outputs": [],
   "source": [
    "import time\n",
    "import random\n",
    "import iisignature\n",
    "import numpy as np\n",
    "from keras import layers\n",
    "from keras.layers import Conv1D, Input, Lambda, Reshape, Permute\n",
    "from keras.models import Model\n",
    "from tensorflow import keras  \n",
    "from keras.optimizers import Adam\n",
    "from keras.engine import InputSpec\n",
    "from keras.models import Sequential\n",
    "from keras.layers import LSTM, Dense, BatchNormalization, Dropout\n",
    "import tensorflow as tf\n",
    "from functools import partial\n",
    "from keras import backend as K\n",
    "from keras.callbacks import ReduceLROnPlateau, ModelCheckpoint, EarlyStopping\n",
    "\n",
    "from data_generator import DataGenerator\n",
    "from cus_layers import *\n",
    "from LP_logsig_rnn import *"
   ]
  },
  {
   "cell_type": "markdown",
   "metadata": {},
   "source": [
    "## Data loading"
   ]
  },
  {
   "cell_type": "code",
   "execution_count": null,
   "metadata": {},
   "outputs": [],
   "source": [
    "cha_train = np.load('cha_train.npy')\n",
    "cha_val = np.load('cha_val.npy')\n",
    "train_label = np.load('cha_train_label.npy')\n",
    "val_label = np.load('cha_val_label.npy')"
   ]
  },
  {
   "cell_type": "markdown",
   "metadata": {},
   "source": [
    "## Hyperparameters"
   ]
  },
  {
   "cell_type": "code",
   "execution_count": null,
   "metadata": {},
   "outputs": [],
   "source": [
    "frame_nb = cha_train.shape[1]\n",
    "joints_dim = int(cha_train.shape[2]/3)\n",
    "\n",
    "n_hidden_neurons = 128\n",
    "batch_size = 120 \n",
    "learning_rate = 0.001\n",
    "epochs = 500\n",
    "number_of_segment = 4\n",
    "deg_of_logsig = 2\n",
    "drop_rate1 = 0.3\n",
    "drop_rate2 = 0.5\n",
    "filter_size = 30\n",
    "\n",
    "output_shape = train_label.shape[1]\n",
    "input_shape = [frame_nb, joints_dim,3]"
   ]
  },
  {
   "cell_type": "markdown",
   "metadata": {},
   "source": [
    "## Built model"
   ]
  },
  {
   "cell_type": "code",
   "execution_count": null,
   "metadata": {},
   "outputs": [],
   "source": [
    "model = build_lin_Logsig_rnn_model(input_shape, n_hidden_neurons, output_shape, \n",
    "                                   number_of_segment, deg_of_logsig, learning_rate, drop_rate1, drop_rate2, filter_size)\n",
    "\n",
    "training_generator = DataGenerator(cha_train.reshape(-1,frame_nb,joints_dim,3), train_label, batch_size)"
   ]
  },
  {
   "cell_type": "markdown",
   "metadata": {},
   "source": [
    "## Model training"
   ]
  },
  {
   "cell_type": "code",
   "execution_count": null,
   "metadata": {},
   "outputs": [],
   "source": [
    "model_name = 'gesture_model_dr1%d_dr2%d_fs%d_dg%d.hdf5' %(drop_rate1,drop_rate2, filter_size, deg_of_logsig)\n",
    "\n",
    "# Reduce learning rate if the loss does not reduce for 50 epochs\n",
    "reduce_lr = ReduceLROnPlateau(monitor='loss', patience=50, verbose=1, factor=0.8, min_lr=0.000001)\n",
    "# Save the best model only\n",
    "mcp_save = ModelCheckpoint(model_name, save_best_only=True, monitor='acc', mode='auto')\n",
    "\n",
    "start = time.time()\n",
    "\n",
    "hist = model.fit_generator(training_generator, epochs=epochs, shuffle=True, verbose=1,#validation_data=(cha_val.reshape(-1,39,19,3), val_label),\n",
    "                               use_multiprocessing = True, workers=6,\n",
    "      callbacks = [ reduce_lr, mcp_save])"
   ]
  },
  {
   "cell_type": "code",
   "execution_count": null,
   "metadata": {},
   "outputs": [],
   "source": [
    "print(model.evaluate(cha_val.reshape(-1,frame_nb,joints_dim,3), val_label))\n",
    "print((time.time()-start)/3600) "
   ]
  }
 ],
 "metadata": {
  "kernelspec": {
   "display_name": "Python 3",
   "language": "python",
   "name": "python3"
  },
  "language_info": {
   "codemirror_mode": {
    "name": "ipython",
    "version": 3
   },
   "file_extension": ".py",
   "mimetype": "text/x-python",
   "name": "python",
   "nbconvert_exporter": "python",
   "pygments_lexer": "ipython3",
   "version": "3.6.9"
  }
 },
 "nbformat": 4,
 "nbformat_minor": 2
}
