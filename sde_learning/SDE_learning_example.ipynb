{
 "cells": [
  {
   "cell_type": "code",
   "execution_count": 1,
   "metadata": {},
   "outputs": [],
   "source": [
    "import numpy as np\n",
    "import matplotlib.pyplot as plt\n",
    "import time\n",
    "import random\n",
    "import os"
   ]
  },
  {
   "cell_type": "markdown",
   "metadata": {},
   "source": [
    "# Learn SDE driven by fBM\n",
    "In this notebook, we demonstrate how to use Logsig-RNN to learn SDE driven by fractional Brownian motion. We consider SDE satisfying the following equation:\n",
    "$$\n",
    "dY_t = (-\\pi Y_t + \\sin(\\pi t))dX^{(1)}_t + Y_t dX^{(2)}_t, Y_{0} = 0,\n",
    "$$\n",
    "where $X_t = (X^{(1)}_t, X^{(2)}_t) = (t, W^H_t)$, $W^H_{t}$ is a $1$-d fractional Brownian motion with Hurst parameter $H$, and the integral is in the Stratonovich sense."
   ]
  },
  {
   "cell_type": "markdown",
   "metadata": {},
   "source": [
    "## Generate samples of SDE"
   ]
  },
  {
   "cell_type": "code",
   "execution_count": 2,
   "metadata": {},
   "outputs": [],
   "source": [
    "from SDEdataSimulation import get_sde_paths\n",
    "\n",
    "hurst = 0.75 #The Hurst parameter\n",
    "data_prefix = 'data/fbm_%.2f/' % hurst # The directory to save the data\n",
    "number_of_independent_simulations=2200 # Number of samples\n",
    "total_no_steps=50001 # Number of time steps\n",
    "maturity=10 # The maturity of SDE\n",
    "\n",
    "if os.path.exists(data_prefix+'paths.npy'):\n",
    "    BM_paths = np.load('data/fbm_%.2f/paths.npy' % hurst)\n",
    "    output = np.load('data/fbm_%.2f/output.npy' % hurst)\n",
    "else:\n",
    "    BM_paths, output = get_sde_paths(hurst, data_prefix, number_of_independent_simulations, total_no_steps, maturity)"
   ]
  },
  {
   "cell_type": "markdown",
   "metadata": {},
   "source": [
    "## Compute the logsignatures of samples"
   ]
  },
  {
   "cell_type": "code",
   "execution_count": 14,
   "metadata": {},
   "outputs": [
    {
     "name": "stderr",
     "output_type": "stream",
     "text": [
      "  0%|                                                                                 | 3/2200 [00:00<01:42, 21.48it/s]"
     ]
    },
    {
     "name": "stdout",
     "output_type": "stream",
     "text": [
      "start computing the logsigs of degree 5:\n"
     ]
    },
    {
     "name": "stderr",
     "output_type": "stream",
     "text": [
      "100%|██████████████████████████████████████████████████████████████████████████████| 2200/2200 [01:48<00:00, 20.28it/s]\n"
     ]
    }
   ],
   "source": [
    "from FeatureSetCalculation_Lib import ComputeMultiLevelLogsig1dBM\n",
    "\n",
    "deg_of_logsig = 5 # the degree of logsignature\n",
    "number_of_segment = 8 # the number of segments of the path\n",
    "\n",
    "X_logsig = ComputeMultiLevelLogsig1dBM(\n",
    "            BM_paths, number_of_segment, deg_of_logsig, maturity)"
   ]
  },
  {
   "cell_type": "markdown",
   "metadata": {},
   "source": [
    "## Learn the data using Logsig-RNN"
   ]
  },
  {
   "cell_type": "code",
   "execution_count": 27,
   "metadata": {},
   "outputs": [
    {
     "name": "stdout",
     "output_type": "stream",
     "text": [
      "start training:\n",
      "Iter 100, Training Accuracy= 0.0010420\n",
      "Iter 200, Training Accuracy= 0.0005747\n",
      "Iter 300, Training Accuracy= 0.0002854\n",
      "Iter 400, Training Accuracy= 0.0002453\n",
      "Iter 500, Training Accuracy= 0.0001418\n",
      "Iter 600, Training Accuracy= 0.0000503\n",
      "Iter 700, Training Accuracy= 0.0000758\n",
      "Iter 800, Training Accuracy= 0.0002714\n",
      "Iter 900, Training Accuracy= 0.0000916\n",
      "Iter 1000, Training Accuracy= 0.0000467\n",
      "Iter 1100, Training Accuracy= 0.0000674\n",
      "Iter 1200, Training Accuracy= 0.0000345\n",
      "Iter 1300, Training Accuracy= 0.0000781\n",
      "Iter 1400, Training Accuracy= 0.0000519\n",
      "Iter 1500, Training Accuracy= 0.0000396\n",
      "Iter 1600, Training Accuracy= 0.0000235\n",
      "Iter 1700, Training Accuracy= 0.0000440\n",
      "Iter 1800, Training Accuracy= 0.0000381\n",
      "Iter 1900, Training Accuracy= 0.0000264\n",
      "Iter 2000, Training Accuracy= 0.0000204\n",
      "Iter 2100, Training Accuracy= 0.0000220\n",
      "Iter 2200, Training Accuracy= 0.0000363\n",
      "Iter 2300, Training Accuracy= 0.0000944\n",
      "Iter 2400, Training Accuracy= 0.0000202\n",
      "Iter 2500, Training Accuracy= 0.0000095\n",
      "Iter 2600, Training Accuracy= 0.0000372\n",
      "Iter 2700, Training Accuracy= 0.0000329\n",
      "Iter 2800, Training Accuracy= 0.0000239\n",
      "Iter 2900, Training Accuracy= 0.0000071\n",
      "Iter 3000, Training Accuracy= 0.0000254\n",
      "Iter 3100, Training Accuracy= 0.0000271\n",
      "Iter 3200, Training Accuracy= 0.0000313\n",
      "Iter 3300, Training Accuracy= 0.0000080\n",
      "Iter 3400, Training Accuracy= 0.0000147\n",
      "Iter 3500, Training Accuracy= 0.0000114\n",
      "Iter 3600, Training Accuracy= 0.0000142\n",
      "Iter 3700, Training Accuracy= 0.0000408\n",
      "Iter 3800, Training Accuracy= 0.0000076\n",
      "Iter 3900, Training Accuracy= 0.0000107\n",
      "Iter 4000, Training Accuracy= 0.0000442\n",
      "Iter 4100, Training Accuracy= 0.0000081\n",
      "Iter 4200, Training Accuracy= 0.0000163\n",
      "Iter 4300, Training Accuracy= 0.0000077\n",
      "Iter 4400, Training Accuracy= 0.0000131\n",
      "Iter 4500, Training Accuracy= 0.0000164\n",
      "Iter 4600, Training Accuracy= 0.0000776\n",
      "Iter 4700, Training Accuracy= 0.0000085\n",
      "Iter 4800, Training Accuracy= 0.0000116\n",
      "Iter 4900, Training Accuracy= 0.0000095\n",
      "Iter 5000, Training Accuracy= 0.0000202\n",
      "Iter 5100, Training Accuracy= 0.0000133\n",
      "Iter 5200, Training Accuracy= 0.0000132\n",
      "Iter 5300, Training Accuracy= 0.0000140\n",
      "Iter 5400, Training Accuracy= 0.0000121\n",
      "Iter 5500, Training Accuracy= 0.0000074\n",
      "Iter 5600, Training Accuracy= 0.0000223\n",
      "Iter 5700, Training Accuracy= 0.0000087\n",
      "Iter 5800, Training Accuracy= 0.0000137\n",
      "Iter 5900, Training Accuracy= 0.0000211\n",
      "Iter 6000, Training Accuracy= 0.0000251\n",
      "Iter 6100, Training Accuracy= 0.0000110\n",
      "Iter 6200, Training Accuracy= 0.0000180\n",
      "Iter 6300, Training Accuracy= 0.0000336\n",
      "Iter 6400, Training Accuracy= 0.0000116\n",
      "Iter 6500, Training Accuracy= 0.0000068\n",
      "Iter 6600, Training Accuracy= 0.0000076\n",
      "Iter 6700, Training Accuracy= 0.0000070\n",
      "Iter 6800, Training Accuracy= 0.0000313\n",
      "Iter 6900, Training Accuracy= 0.0000168\n",
      "Iter 7000, Training Accuracy= 0.0000090\n",
      "Iter 7100, Training Accuracy= 0.0000037\n",
      "Iter 7200, Training Accuracy= 0.0000086\n",
      "Iter 7300, Training Accuracy= 0.0000133\n",
      "Iter 7400, Training Accuracy= 0.0000094\n",
      "Iter 7500, Training Accuracy= 0.0000082\n",
      "Iter 7600, Training Accuracy= 0.0000062\n",
      "Iter 7700, Training Accuracy= 0.0000077\n",
      "Iter 7800, Training Accuracy= 0.0000065\n",
      "Iter 7900, Training Accuracy= 0.0000203\n",
      "Iter 8000, Training Accuracy= 0.0000085\n",
      "Iter 8100, Training Accuracy= 0.0000055\n",
      "Iter 8200, Training Accuracy= 0.0000150\n",
      "Iter 8300, Training Accuracy= 0.0000059\n",
      "Iter 8400, Training Accuracy= 0.0000102\n",
      "Iter 8500, Training Accuracy= 0.0000051\n",
      "Iter 8600, Training Accuracy= 0.0000065\n",
      "Iter 8700, Training Accuracy= 0.0000090\n",
      "Iter 8800, Training Accuracy= 0.0000325\n",
      "Iter 8900, Training Accuracy= 0.0000043\n",
      "Iter 9000, Training Accuracy= 0.0000071\n",
      "Iter 9100, Training Accuracy= 0.0000068\n",
      "Iter 9200, Training Accuracy= 0.0000063\n",
      "Iter 9300, Training Accuracy= 0.0000040\n",
      "Iter 9400, Training Accuracy= 0.0000087\n",
      "Iter 9500, Training Accuracy= 0.0000124\n",
      "Iter 9600, Training Accuracy= 0.0000136\n",
      "Iter 9700, Training Accuracy= 0.0000040\n",
      "Iter 9800, Training Accuracy= 0.0000142\n",
      "Iter 9900, Training Accuracy= 0.0000080\n",
      "Iter 10000, Training Accuracy= 0.0000087\n",
      "Iter 10100, Training Accuracy= 0.0000068\n",
      "Iter 10200, Training Accuracy= 0.0000045\n",
      "Iter 10300, Training Accuracy= 0.0000100\n",
      "Iter 10400, Training Accuracy= 0.0000042\n",
      "Iter 10500, Training Accuracy= 0.0000061\n",
      "Iter 10600, Training Accuracy= 0.0000045\n",
      "Iter 10700, Training Accuracy= 0.0000097\n",
      "Iter 10800, Training Accuracy= 0.0000055\n",
      "Iter 10900, Training Accuracy= 0.0000071\n",
      "Iter 11000, Training Accuracy= 0.0000069\n",
      "Iter 11100, Training Accuracy= 0.0000083\n",
      "Iter 11200, Training Accuracy= 0.0000047\n",
      "Iter 11300, Training Accuracy= 0.0000034\n",
      "Iter 11400, Training Accuracy= 0.0000052\n",
      "Iter 11500, Training Accuracy= 0.0000059\n",
      "Iter 11600, Training Accuracy= 0.0000056\n",
      "Iter 11700, Training Accuracy= 0.0000040\n",
      "Iter 11800, Training Accuracy= 0.0000039\n",
      "Iter 11900, Training Accuracy= 0.0000038\n",
      "Iter 12000, Training Accuracy= 0.0000090\n",
      "Iter 12100, Training Accuracy= 0.0000061\n",
      "Iter 12200, Training Accuracy= 0.0000069\n",
      "Iter 12300, Training Accuracy= 0.0000093\n",
      "Iter 12400, Training Accuracy= 0.0000119\n",
      "Iter 12500, Training Accuracy= 0.0000075\n",
      "Model: \"sequential_3\"\n",
      "_________________________________________________________________\n",
      "Layer (type)                 Output Shape              Param #   \n",
      "=================================================================\n",
      "lstm_3 (LSTM)                (None, 64)                20480     \n",
      "_________________________________________________________________\n",
      "dense_3 (Dense)              (None, 1)                 65        \n",
      "=================================================================\n",
      "Total params: 20,545\n",
      "Trainable params: 20,545\n",
      "Non-trainable params: 0\n",
      "_________________________________________________________________\n"
     ]
    }
   ],
   "source": [
    "from LSTM_Learning_Lib import Model\n",
    "\n",
    "# hyperparameters\n",
    "lr=0.001\n",
    "training_iters=8000000\n",
    "batch_size=64\n",
    "display_step=100\n",
    "n_hidden=64\n",
    "n_classes=1\n",
    "error_tol=0.001/512\n",
    "test_len=200\n",
    "n_input = np.shape(X_logsig)[2]\n",
    "\n",
    "prefix = 'results/fbm_%.2f/' % hurst\n",
    "# build model\n",
    "model3 = Model(lr, training_iters, batch_size, display_step, n_input,\n",
    "                       number_of_segment, n_hidden, n_classes, deg_of_logsig, X_logsig, output, prefix)\n",
    "\n",
    "# train model\n",
    "print('start training:')\n",
    "fixed_error_result_model3 = model3.BuildModelKeras(test_len, error_tol)"
   ]
  },
  {
   "cell_type": "code",
   "execution_count": 28,
   "metadata": {},
   "outputs": [
    {
     "name": "stdout",
     "output_type": "stream",
     "text": [
      "Test Loss is: 1.3750724e-05\n"
     ]
    }
   ],
   "source": [
    "print('Test Loss is:',fixed_error_result_model3['Loss'])"
   ]
  },
  {
   "cell_type": "markdown",
   "metadata": {},
   "source": [
    "### Visualize the results"
   ]
  },
  {
   "cell_type": "code",
   "execution_count": 29,
   "metadata": {},
   "outputs": [
    {
     "data": {
      "text/plain": [
       "<matplotlib.legend.Legend at 0x1e34eca5550>"
      ]
     },
     "execution_count": 29,
     "metadata": {},
     "output_type": "execute_result"
    },
    {
     "data": {
      "image/png": "[encoded data removed]",
      "text/plain": [
       "<Figure size 432x288 with 1 Axes>"
      ]
     },
     "metadata": {
      "needs_background": "light"
     },
     "output_type": "display_data"
    }
   ],
   "source": [
    "plt.plot(output[-200:], output[-200:], '.r', label='real')\n",
    "plt.plot(output[-200:], fixed_error_result_model3['Pred'],'.b',alpha=0.5, label='predicted')\n",
    "plt.legend()"
   ]
  },
  {
   "cell_type": "code",
   "execution_count": null,
   "metadata": {},
   "outputs": [],
   "source": []
  }
 ],
 "metadata": {
  "kernelspec": {
   "display_name": "Python 3",
   "language": "python",
   "name": "python3"
  },
  "language_info": {
   "codemirror_mode": {
    "name": "ipython",
    "version": 3
   },
   "file_extension": ".py",
   "mimetype": "text/x-python",
   "name": "python",
   "nbconvert_exporter": "python",
   "pygments_lexer": "ipython3",
   "version": "3.6.9"
  }
 },
 "nbformat": 4,
 "nbformat_minor": 2
}
