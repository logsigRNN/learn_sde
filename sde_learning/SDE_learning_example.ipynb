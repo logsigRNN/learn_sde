{
 "cells": [
  {
   "cell_type": "code",
   "execution_count": null,
   "metadata": {},
   "outputs": [],
   "source": [
    "import numpy as np\n",
    "from LSTM_Learning_Lib import Model\n",
    "from FeatureSetCalculation_Lib import ComputeMultiLevelLogsig1dBM\n",
    "import matplotlib.pyplot as plt\n",
    "import time\n",
    "from sklearn.model_selection import ParameterGrid\n",
    "from sklearn import preprocessing\n",
    "import random"
   ]
  },
  {
   "cell_type": "markdown",
   "metadata": {},
   "source": [
    "## Data loading"
   ]
  },
  {
   "cell_type": "code",
   "execution_count": null,
   "metadata": {},
   "outputs": [],
   "source": [
    "BM_paths = np.load('BM_paths.npy')\n",
    "number_of_samples = BM_paths.shape[0]\n",
    "\"\"\"\n",
    "BM1001 = np.zeros([number_of_samples, 1001])\n",
    "for i in range(number_of_samples):\n",
    "    for j in range(5001):\n",
    "        if j%5==0:\n",
    "            BM1001[i][int(j/5)] = BM_paths[i][j]\n",
    "BM_paths = BM1001\n",
    "\"\"\"\n",
    "print(BM_paths.shape)\n",
    "output = np.load('output.npy')\n",
    "T=1"
   ]
  },
  {
   "cell_type": "markdown",
   "metadata": {},
   "source": [
    "## Hyperparameters"
   ]
  },
  {
   "cell_type": "code",
   "execution_count": null,
   "metadata": {},
   "outputs": [],
   "source": [
    "# Parameters grid\n",
    "param_grid = {'deg_of_sig': [2,3,4,5,6], 'number_of_segment': [4],\n",
    "'learning_rate': [0.001]}\n",
    "Param = list(ParameterGrid(param_grid))\n",
    "# Parameters\n",
    "training_iters = 8000000\n",
    "batch_size = 1024\n",
    "display_step = 1\n",
    "# Network Parameters\n",
    "n_input = 1 # \n",
    "n_steps = np.shape(BM_paths)[1] # timesteps\n",
    "n_hidden = 64 # hidden layer num of features\n",
    "n_classes = 1 # the dim of the solution to SDE\n",
    "\n",
    "Y = output\n",
    "error_tol = 0.001/512\n",
    "\n",
    "test_len = 200 #int(np.shape(BM_paths)[0]*0.1)\n",
    "sig_comp_time = []\n",
    "test_result = []\n",
    "test_time = []"
   ]
  },
  {
   "cell_type": "markdown",
   "metadata": {},
   "source": [
    "## train RNN with different feature sets"
   ]
  },
  {
   "cell_type": "code",
   "execution_count": null,
   "metadata": {},
   "outputs": [],
   "source": [
    "for i in range(np.size(Param)):\n",
    "    start = time.time()\n",
    "    # Raw data feature set generator\n",
    "    if Param[i]['deg_of_sig']==1:\n",
    "        n_input = 1\n",
    "        X_raw = BM_paths.reshape(-1, BM_paths.shape[1], n_input)\n",
    "        print(X_raw.shape)\n",
    "        model3 = Model( Param[i]['learning_rate'], training_iters, batch_size, display_step, n_input, X_raw.shape[1], n_hidden, n_classes, Param[i]['deg_of_sig'], X_raw, Y)\n",
    "    # Folded raw data feature set generator\n",
    "    elif Param[i]['deg_of_sig']==0:\n",
    "        n_input = int(BM_paths.shape[1]/Param[i]['number_of_segment'])\n",
    "        X_raw = np.zeros([BM_paths.shape[0], n_input * Param[i]['number_of_segment']])\n",
    "        for j in range(BM_paths.shape[0]):\n",
    "            X_raw[j] = BM_paths[j, :n_input * Param[i]['number_of_segment']]\n",
    "        X_raw = X_raw.reshape(BM_paths.shape[0], Param[i]['number_of_segment'], n_input)\n",
    "        elapsed = time.time()-start\n",
    "        sig_comp_time.append(elapsed)\n",
    "        model3 = Model( Param[i]['learning_rate'], training_iters, batch_size, display_step, n_input, Param[i]['number_of_segment'], n_hidden, n_classes, Param[i]['deg_of_sig'], X_raw, Y)\n",
    "    # Logsig feature set generator\n",
    "    else:\n",
    "        X_logsig_start = ComputeMultiLevelLogsig1dBM(BM_paths, Param[i]['number_of_segment'], Param[i]['deg_of_sig'], T)\n",
    "        n_input = np.shape(X_logsig_start)[2]\n",
    "        elapsed = time.time()-start\n",
    "        sig_comp_time.append(elapsed)\n",
    "        model3 = Model( Param[i]['learning_rate'], training_iters, batch_size, display_step, n_input, Param[i]['number_of_segment'], n_hidden, n_classes, Param[i]['deg_of_sig'], X_logsig_start, Y)\n",
    "\n",
    "\n",
    "    # build and train model\n",
    "    fixed_error_result_model3 = model3.BuildModelKeras(test_len, error_tol)\n",
    "    \n",
    "\n",
    "    print(\"Time = \" + str(time.time()-start))\n",
    "    print(\"Testing loss = \" + str(fixed_error_result_model3['Loss']))\n",
    "    # model3.KerasPredict()\n",
    "    test_result.append(fixed_error_result_model3 ['Loss'])\n",
    "    test_time.append(fixed_error_result_model3 ['Time'])\n",
    "    \n",
    "    \n",
    "    np.save('error_tol'+str(error_tol)+'deg_logsig'+str(Param[i]['deg_of_sig'])+'_test_result', test_result)\n",
    "    np.save('error_tol'+str(error_tol)+'deg_logsig'+str(Param[i]['deg_of_sig'])+'_test_time', test_time)\n",
    "    np.save('error_tol'+str(error_tol)+'deg_logsig'+str(Param[i]['deg_of_sig'])+'_sig_comp_time', elapsed)"
   ]
  },
  {
   "cell_type": "code",
   "execution_count": null,
   "metadata": {},
   "outputs": [],
   "source": [
    "print(test_time)\n",
    "print(test_result)\n",
    "print(sig_comp_time)"
   ]
  }
 ],
 "metadata": {
  "kernelspec": {
   "display_name": "Python 3",
   "language": "python",
   "name": "python3"
  },
  "language_info": {
   "codemirror_mode": {
    "name": "ipython",
    "version": 3
   },
   "file_extension": ".py",
   "mimetype": "text/x-python",
   "name": "python",
   "nbconvert_exporter": "python",
   "pygments_lexer": "ipython3",
   "version": "3.6.5"
  }
 },
 "nbformat": 4,
 "nbformat_minor": 2
}
