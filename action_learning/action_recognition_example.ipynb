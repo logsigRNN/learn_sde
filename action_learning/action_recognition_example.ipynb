{
 "cells": [
  {
   "cell_type": "code",
   "execution_count": null,
   "metadata": {},
   "outputs": [],
   "source": [
    "import time\n",
    "import random\n",
    "import iisignature\n",
    "import numpy as np\n",
    "from keras import layers\n",
    "from keras.layers import Conv1D,Conv2D, Input, Lambda, Reshape, Permute, Flatten\n",
    "from keras.models import Model\n",
    "from tensorflow import keras  \n",
    "from keras.optimizers import Adam\n",
    "from keras.engine import InputSpec\n",
    "from keras.models import Sequential\n",
    "from keras.layers import LSTM, Dense, BatchNormalization, Dropout\n",
    "import tensorflow as tf\n",
    "from functools import partial\n",
    "from keras import backend as K\n",
    "from keras.callbacks import ReduceLROnPlateau, ModelCheckpoint, EarlyStopping\n",
    "from cus_layers import *\n",
    "from PT_logsig_RNN import *"
   ]
  },
  {
   "cell_type": "code",
   "execution_count": null,
   "metadata": {},
   "outputs": [],
   "source": [
    "cha_train = np.load('xsub_train_x_sn.npy')\n",
    "cha_val = np.load('xsub_test_x_sn.npy')\n",
    "train_label = np.load('xsub_train_y.npy')\n",
    "val_label = np.load('xsub_test_y.npy')"
   ]
  },
  {
   "cell_type": "markdown",
   "metadata": {},
   "source": [
    "# Hyperparameters"
   ]
  },
  {
   "cell_type": "code",
   "execution_count": null,
   "metadata": {},
   "outputs": [],
   "source": [
    "n_hidden_neurons = 256\n",
    "batch_size = 256\n",
    "learning_rate = 0.001\n",
    "epochs = 60\n",
    "number_of_segment = 32\n",
    "deg_of_logsig = 2\n",
    "drop_rate_1 = 0\n",
    "drop_rate_2 = 0.8\n",
    "filter_size = 40\n",
    "output_shape = 120\n",
    "input_shape = [72, 25,6]\n",
    "Time = []\n",
    "Acc = []"
   ]
  },
  {
   "cell_type": "markdown",
   "metadata": {},
   "source": [
    "# Build model"
   ]
  },
  {
   "cell_type": "code",
   "execution_count": null,
   "metadata": {},
   "outputs": [],
   "source": [
    "model = build_lin_Logsig_rnn_model(input_shape, n_hidden_neurons, output_shape, number_of_segment, deg_of_logsig, learning_rate, drop_rate_1\n",
    "                                                   ,drop_rate_2, filter_size)"
   ]
  },
  {
   "cell_type": "code",
   "execution_count": null,
   "metadata": {},
   "outputs": [],
   "source": [
    "model_name = 'ntu_xsub_lstm+conv+logsig.hdf5' \n",
    "# Keras callbacks for reducing the learning rate and saving the model\n",
    "# call back to early stop if the loss doesn't decrease for <patience=300> epochs\n",
    "early_stopping_monitor = EarlyStopping(monitor='loss', min_delta=0, patience=20, verbose=0, mode='auto')\n",
    "# Call back to reduce learning rate by <factor=0.8> if the loss doesn't decrease for <patience=100> epochs\n",
    "reduce_lr = ReduceLROnPlateau(monitor='loss', patience=50, verbose=1, factor=0.8, min_lr=0.000001)\n",
    "# call back to save model ( saves best model only )\n",
    "mcp_save = ModelCheckpoint(model_name, save_best_only=True, monitor='acc', mode='auto')"
   ]
  },
  {
   "cell_type": "markdown",
   "metadata": {},
   "source": [
    "# Train model"
   ]
  },
  {
   "cell_type": "code",
   "execution_count": null,
   "metadata": {},
   "outputs": [],
   "source": [
    "hist = model.fit(cha_train.reshape(cha_train.shape[0],72,25,6), train_label, epochs=epochs, batch_size=batch_size,shuffle=True, \n",
    "                    verbose=1, callbacks = [ early_stopping_monitor, reduce_lr, mcp_save])"
   ]
  },
  {
   "cell_type": "markdown",
   "metadata": {},
   "source": [
    "# Test model"
   ]
  },
  {
   "cell_type": "code",
   "execution_count": null,
   "metadata": {},
   "outputs": [],
   "source": [
    "model.evaluate(cha_val.reshape(cha_val.shape[0],72,25,6), val_label)"
   ]
  }
 ],
 "metadata": {
  "kernelspec": {
   "display_name": "Python 3",
   "language": "python",
   "name": "python3"
  },
  "language_info": {
   "codemirror_mode": {
    "name": "ipython",
    "version": 3
   },
   "file_extension": ".py",
   "mimetype": "text/x-python",
   "name": "python",
   "nbconvert_exporter": "python",
   "pygments_lexer": "ipython3",
   "version": "3.6.5"
  }
 },
 "nbformat": 4,
 "nbformat_minor": 2
}
